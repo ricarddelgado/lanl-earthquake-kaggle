{
 "cells": [
  {
   "cell_type": "code",
   "execution_count": 10,
   "metadata": {},
   "outputs": [],
   "source": [
    "import csv\n",
    "import numpy as np\n",
    "from os import listdir\n",
    "from os.path import isfile, join\n",
    "import pandas as pd\n",
    "import seaborn as sns\n",
    "import matplotlib.pyplot as plt"
   ]
  },
  {
   "cell_type": "code",
   "execution_count": 2,
   "metadata": {},
   "outputs": [],
   "source": [
    "out_path = '../output/search_all_features_nn_5x1x1_tanh_linear/'"
   ]
  },
  {
   "cell_type": "markdown",
   "metadata": {},
   "source": [
    "Load all the indivisual files containing the features and score."
   ]
  },
  {
   "cell_type": "code",
   "execution_count": 3,
   "metadata": {},
   "outputs": [],
   "source": [
    "all_files = [f for f in listdir(out_path) if isfile(join(out_path, f))]\n",
    "li = []\n",
    "for f in all_files:\n",
    "    df = pd.read_csv(join(out_path, f), index_col=None, header=0)\n",
    "    li.append(df)\n",
    "\n",
    "results_nn = pd.concat(li, axis=0, ignore_index=True)"
   ]
  },
  {
   "cell_type": "code",
   "execution_count": 4,
   "metadata": {},
   "outputs": [
    {
     "data": {
      "text/html": [
       "<div>\n",
       "<style scoped>\n",
       "    .dataframe tbody tr th:only-of-type {\n",
       "        vertical-align: middle;\n",
       "    }\n",
       "\n",
       "    .dataframe tbody tr th {\n",
       "        vertical-align: top;\n",
       "    }\n",
       "\n",
       "    .dataframe thead th {\n",
       "        text-align: right;\n",
       "    }\n",
       "</style>\n",
       "<table border=\"1\" class=\"dataframe\">\n",
       "  <thead>\n",
       "    <tr style=\"text-align: right;\">\n",
       "      <th></th>\n",
       "      <th>f1</th>\n",
       "      <th>f2</th>\n",
       "      <th>f3</th>\n",
       "      <th>f4</th>\n",
       "      <th>f5</th>\n",
       "      <th>val_score</th>\n",
       "    </tr>\n",
       "  </thead>\n",
       "  <tbody>\n",
       "    <tr>\n",
       "      <th>6838</th>\n",
       "      <td>freq_cross_last_50000</td>\n",
       "      <td>abs_q05</td>\n",
       "      <td>modified_sta_lta5_mean</td>\n",
       "      <td>mean_change_rate_first_10000</td>\n",
       "      <td>q05_roll_std_100</td>\n",
       "      <td>2.319526</td>\n",
       "    </tr>\n",
       "    <tr>\n",
       "      <th>27200</th>\n",
       "      <td>abs_q05</td>\n",
       "      <td>classic_sta_lta4_q95</td>\n",
       "      <td>q05_roll_std_10</td>\n",
       "      <td>modified_sta_lta1_q95</td>\n",
       "      <td>q95_roll_mean_10</td>\n",
       "      <td>2.326021</td>\n",
       "    </tr>\n",
       "    <tr>\n",
       "      <th>977</th>\n",
       "      <td>max_last_10000</td>\n",
       "      <td>modified_sta_lta2_q05</td>\n",
       "      <td>q05_roll_std_100</td>\n",
       "      <td>abs_q05</td>\n",
       "      <td>modified_sta_lta6_q95</td>\n",
       "      <td>2.327434</td>\n",
       "    </tr>\n",
       "    <tr>\n",
       "      <th>3298</th>\n",
       "      <td>abs_q05</td>\n",
       "      <td>q05_roll_std_10</td>\n",
       "      <td>Imin</td>\n",
       "      <td>modified_sta_lta1_q95</td>\n",
       "      <td>av_change_rate_roll_mean_100_v2</td>\n",
       "      <td>2.327987</td>\n",
       "    </tr>\n",
       "    <tr>\n",
       "      <th>23879</th>\n",
       "      <td>q05_roll_std_10</td>\n",
       "      <td>modified_sta_lta3_q95</td>\n",
       "      <td>min_roll_std_100</td>\n",
       "      <td>q05_roll_std_100</td>\n",
       "      <td>modified_sta_lta6_q95</td>\n",
       "      <td>2.334773</td>\n",
       "    </tr>\n",
       "  </tbody>\n",
       "</table>\n",
       "</div>"
      ],
      "text/plain": [
       "                          f1                     f2                      f3  \\\n",
       "6838   freq_cross_last_50000                abs_q05  modified_sta_lta5_mean   \n",
       "27200                abs_q05   classic_sta_lta4_q95         q05_roll_std_10   \n",
       "977           max_last_10000  modified_sta_lta2_q05        q05_roll_std_100   \n",
       "3298                 abs_q05        q05_roll_std_10                    Imin   \n",
       "23879        q05_roll_std_10  modified_sta_lta3_q95        min_roll_std_100   \n",
       "\n",
       "                                 f4                               f5  \\\n",
       "6838   mean_change_rate_first_10000                 q05_roll_std_100   \n",
       "27200         modified_sta_lta1_q95                 q95_roll_mean_10   \n",
       "977                         abs_q05            modified_sta_lta6_q95   \n",
       "3298          modified_sta_lta1_q95  av_change_rate_roll_mean_100_v2   \n",
       "23879              q05_roll_std_100            modified_sta_lta6_q95   \n",
       "\n",
       "       val_score  \n",
       "6838    2.319526  \n",
       "27200   2.326021  \n",
       "977     2.327434  \n",
       "3298    2.327987  \n",
       "23879   2.334773  "
      ]
     },
     "execution_count": 4,
     "metadata": {},
     "output_type": "execute_result"
    }
   ],
   "source": [
    "results_nn = results_nn.sort_values(by=['val_score'])\n",
    "results_nn.head()"
   ]
  },
  {
   "cell_type": "markdown",
   "metadata": {},
   "source": [
    "This table may have repeated structures since the features were chosen at random. For that, we organize the name of the features in lexicographical order, and then we search for duplicates on the concatenation of the name of features."
   ]
  },
  {
   "cell_type": "code",
   "execution_count": 5,
   "metadata": {
    "scrolled": true
   },
   "outputs": [],
   "source": [
    "df = pd.DataFrame(columns=['features', 'val_score']) \n",
    "for index, row in results_nn.iterrows():\n",
    "    sorted_features = [row[i] for i in range(5)]\n",
    "    sorted_features.sort()\n",
    "    seperator = '-'\n",
    "    seperator = seperator.join(sorted_features)\n",
    "    df = df.append({'features': seperator, 'val_score':row[5]}, ignore_index=True)"
   ]
  },
  {
   "cell_type": "code",
   "execution_count": 6,
   "metadata": {},
   "outputs": [
    {
     "data": {
      "text/html": [
       "<div>\n",
       "<style scoped>\n",
       "    .dataframe tbody tr th:only-of-type {\n",
       "        vertical-align: middle;\n",
       "    }\n",
       "\n",
       "    .dataframe tbody tr th {\n",
       "        vertical-align: top;\n",
       "    }\n",
       "\n",
       "    .dataframe thead th {\n",
       "        text-align: right;\n",
       "    }\n",
       "</style>\n",
       "<table border=\"1\" class=\"dataframe\">\n",
       "  <thead>\n",
       "    <tr style=\"text-align: right;\">\n",
       "      <th></th>\n",
       "      <th>features</th>\n",
       "      <th>val_score</th>\n",
       "    </tr>\n",
       "  </thead>\n",
       "  <tbody>\n",
       "    <tr>\n",
       "      <th>0</th>\n",
       "      <td>abs_q05-freq_cross_last_50000-mean_change_rate...</td>\n",
       "      <td>2.319526</td>\n",
       "    </tr>\n",
       "    <tr>\n",
       "      <th>1</th>\n",
       "      <td>abs_q05-classic_sta_lta4_q95-modified_sta_lta1...</td>\n",
       "      <td>2.326021</td>\n",
       "    </tr>\n",
       "    <tr>\n",
       "      <th>2</th>\n",
       "      <td>abs_q05-max_last_10000-modified_sta_lta2_q05-m...</td>\n",
       "      <td>2.327434</td>\n",
       "    </tr>\n",
       "    <tr>\n",
       "      <th>3</th>\n",
       "      <td>Imin-abs_q05-av_change_rate_roll_mean_100_v2-m...</td>\n",
       "      <td>2.327987</td>\n",
       "    </tr>\n",
       "    <tr>\n",
       "      <th>4</th>\n",
       "      <td>min_roll_std_100-modified_sta_lta3_q95-modifie...</td>\n",
       "      <td>2.334773</td>\n",
       "    </tr>\n",
       "  </tbody>\n",
       "</table>\n",
       "</div>"
      ],
      "text/plain": [
       "                                            features  val_score\n",
       "0  abs_q05-freq_cross_last_50000-mean_change_rate...   2.319526\n",
       "1  abs_q05-classic_sta_lta4_q95-modified_sta_lta1...   2.326021\n",
       "2  abs_q05-max_last_10000-modified_sta_lta2_q05-m...   2.327434\n",
       "3  Imin-abs_q05-av_change_rate_roll_mean_100_v2-m...   2.327987\n",
       "4  min_roll_std_100-modified_sta_lta3_q95-modifie...   2.334773"
      ]
     },
     "execution_count": 6,
     "metadata": {},
     "output_type": "execute_result"
    }
   ],
   "source": [
    "df.sort_values(by=['val_score']).head()"
   ]
  },
  {
   "cell_type": "code",
   "execution_count": 7,
   "metadata": {},
   "outputs": [
    {
     "name": "stdout",
     "output_type": "stream",
     "text": [
      "Duplicate Rows based on a single column are:\n"
     ]
    },
    {
     "data": {
      "text/html": [
       "<div>\n",
       "<style scoped>\n",
       "    .dataframe tbody tr th:only-of-type {\n",
       "        vertical-align: middle;\n",
       "    }\n",
       "\n",
       "    .dataframe tbody tr th {\n",
       "        vertical-align: top;\n",
       "    }\n",
       "\n",
       "    .dataframe thead th {\n",
       "        text-align: right;\n",
       "    }\n",
       "</style>\n",
       "<table border=\"1\" class=\"dataframe\">\n",
       "  <thead>\n",
       "    <tr style=\"text-align: right;\">\n",
       "      <th></th>\n",
       "      <th>features</th>\n",
       "      <th>val_score</th>\n",
       "    </tr>\n",
       "  </thead>\n",
       "  <tbody>\n",
       "    <tr>\n",
       "      <th>29726</th>\n",
       "      <td>abs_q05-av_change_rate_roll_mean_100-classic_s...</td>\n",
       "      <td>3.189319</td>\n",
       "    </tr>\n",
       "  </tbody>\n",
       "</table>\n",
       "</div>"
      ],
      "text/plain": [
       "                                                features  val_score\n",
       "29726  abs_q05-av_change_rate_roll_mean_100-classic_s...   3.189319"
      ]
     },
     "execution_count": 7,
     "metadata": {},
     "output_type": "execute_result"
    }
   ],
   "source": [
    "df_duplicated = df[df.duplicated(['features'])]\n",
    "print(\"Duplicate Rows based on a single column are:\")\n",
    "df_duplicated"
   ]
  },
  {
   "cell_type": "code",
   "execution_count": null,
   "metadata": {},
   "outputs": [],
   "source": []
  },
  {
   "cell_type": "code",
   "execution_count": 8,
   "metadata": {},
   "outputs": [
    {
     "data": {
      "image/png": "[encoded data removed]",
      "text/plain": [
       "<Figure size 1152x360 with 2 Axes>"
      ]
     },
     "metadata": {
      "needs_background": "light"
     },
     "output_type": "display_data"
    }
   ],
   "source": [
    "plt.subplots(figsize=(16, 5))\n",
    "plt.suptitle(f\"Number of simulations: {results_nn.shape[0]}\\n\"\n",
    "             f\"Min: {np.min(results_nn['val_score']):.2f} - \"\n",
    "             f\"Mean: {np.mean(results_nn['val_score']):.2f} - \"\n",
    "             f\"Max: {np.max(results_nn['val_score']):.2f}\")\n",
    "plt.subplot(1, 2, 1)\n",
    "plt.scatter(range(results_nn.shape[0]), results_nn.sort_values(by=['val_score'])['val_score'])\n",
    "plt.grid()\n",
    "plt.ylabel('validation score')\n",
    "plt.xlabel('NN number (sorted)')\n",
    "\n",
    "plt.subplot(1, 2, 2)\n",
    "plt.hist(results_nn['val_score'].tolist(), bins='auto')  # arguments are passed to np.histogram\n",
    "plt.grid()\n",
    "plt.ylabel('count')\n",
    "plt.xlabel('validation score')\n",
    "\n",
    "plt.show()"
   ]
  },
  {
   "cell_type": "code",
   "execution_count": 14,
   "metadata": {},
   "outputs": [],
   "source": [
    "tiny_nn_results_file = 'small_nn_search.csv'\n",
    "results_nn.to_csv(path_or_buf=tiny_nn_results_file, index=False)"
   ]
  },
  {
   "cell_type": "code",
   "execution_count": null,
   "metadata": {},
   "outputs": [],
   "source": []
  }
 ],
 "metadata": {
  "kernelspec": {
   "display_name": "Python 3",
   "language": "python",
   "name": "python3"
  },
  "language_info": {
   "codemirror_mode": {
    "name": "ipython",
    "version": 3
   },
   "file_extension": ".py",
   "mimetype": "text/x-python",
   "name": "python",
   "nbconvert_exporter": "python",
   "pygments_lexer": "ipython3",
   "version": "3.7.3"
  }
 },
 "nbformat": 4,
 "nbformat_minor": 2
}
