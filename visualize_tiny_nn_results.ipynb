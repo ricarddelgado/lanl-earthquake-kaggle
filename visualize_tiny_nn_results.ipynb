{
 "cells": [
  {
   "cell_type": "code",
   "execution_count": 1,
   "metadata": {},
   "outputs": [],
   "source": [
    "import numpy as np\n",
    "from os import listdir\n",
    "from os.path import isfile, join\n",
    "import pandas as pd\n",
    "import seaborn as sns\n",
    "import matplotlib.pyplot as plt"
   ]
  },
  {
   "cell_type": "code",
   "execution_count": 2,
   "metadata": {},
   "outputs": [],
   "source": [
    "out_path = '../output/search_gdi_features_nn_5x256x1_tanh_linear/'"
   ]
  },
  {
   "cell_type": "code",
   "execution_count": 3,
   "metadata": {},
   "outputs": [],
   "source": [
    "all_files = [f for f in listdir(out_path) if isfile(join(out_path, f))]\n",
    "li = []\n",
    "for f in all_files:\n",
    "    df = pd.read_csv(join(out_path, f), index_col=None, header=0)\n",
    "    li.append(df)\n",
    "\n",
    "results_nn = pd.concat(li, axis=0, ignore_index=True)"
   ]
  },
  {
   "cell_type": "code",
   "execution_count": 17,
   "metadata": {},
   "outputs": [
    {
     "data": {
      "text/html": [
       "<div>\n",
       "<style scoped>\n",
       "    .dataframe tbody tr th:only-of-type {\n",
       "        vertical-align: middle;\n",
       "    }\n",
       "\n",
       "    .dataframe tbody tr th {\n",
       "        vertical-align: top;\n",
       "    }\n",
       "\n",
       "    .dataframe thead th {\n",
       "        text-align: right;\n",
       "    }\n",
       "</style>\n",
       "<table border=\"1\" class=\"dataframe\">\n",
       "  <thead>\n",
       "    <tr style=\"text-align: right;\">\n",
       "      <th></th>\n",
       "      <th>f1</th>\n",
       "      <th>f2</th>\n",
       "      <th>f3</th>\n",
       "      <th>f4</th>\n",
       "      <th>f5</th>\n",
       "      <th>val_score</th>\n",
       "    </tr>\n",
       "  </thead>\n",
       "  <tbody>\n",
       "    <tr>\n",
       "      <th>1135</th>\n",
       "      <td>abs_max_roll_mean_100</td>\n",
       "      <td>ave_roll_std_10</td>\n",
       "      <td>q95_roll_std_100</td>\n",
       "      <td>q05_roll_std_1000</td>\n",
       "      <td>q05_roll_std_10</td>\n",
       "      <td>2.338697</td>\n",
       "    </tr>\n",
       "    <tr>\n",
       "      <th>378</th>\n",
       "      <td>q99_roll_std_100</td>\n",
       "      <td>MA_400MA_BB_high_mean</td>\n",
       "      <td>q99_roll_mean_10</td>\n",
       "      <td>Hilbert_mean</td>\n",
       "      <td>q05_roll_std_10</td>\n",
       "      <td>2.339151</td>\n",
       "    </tr>\n",
       "    <tr>\n",
       "      <th>408</th>\n",
       "      <td>q05_roll_std_1000</td>\n",
       "      <td>q01</td>\n",
       "      <td>av_change_abs_roll_mean_10</td>\n",
       "      <td>ave_roll_std_10</td>\n",
       "      <td>count_big</td>\n",
       "      <td>2.339403</td>\n",
       "    </tr>\n",
       "    <tr>\n",
       "      <th>524</th>\n",
       "      <td>mean_change_rate_first_10000</td>\n",
       "      <td>av_change_abs_roll_std_1000</td>\n",
       "      <td>std_last_50000</td>\n",
       "      <td>q05_roll_std_10</td>\n",
       "      <td>q999</td>\n",
       "      <td>2.346420</td>\n",
       "    </tr>\n",
       "    <tr>\n",
       "      <th>136</th>\n",
       "      <td>abs_mean</td>\n",
       "      <td>Hilbert_mean</td>\n",
       "      <td>mean_diff</td>\n",
       "      <td>q05_roll_std_1000</td>\n",
       "      <td>q01_roll_std_10</td>\n",
       "      <td>2.346871</td>\n",
       "    </tr>\n",
       "  </tbody>\n",
       "</table>\n",
       "</div>"
      ],
      "text/plain": [
       "                                f1                           f2  \\\n",
       "1135         abs_max_roll_mean_100              ave_roll_std_10   \n",
       "378               q99_roll_std_100        MA_400MA_BB_high_mean   \n",
       "408              q05_roll_std_1000                          q01   \n",
       "524   mean_change_rate_first_10000  av_change_abs_roll_std_1000   \n",
       "136                       abs_mean                 Hilbert_mean   \n",
       "\n",
       "                              f3                 f4               f5  \\\n",
       "1135            q95_roll_std_100  q05_roll_std_1000  q05_roll_std_10   \n",
       "378             q99_roll_mean_10       Hilbert_mean  q05_roll_std_10   \n",
       "408   av_change_abs_roll_mean_10    ave_roll_std_10        count_big   \n",
       "524               std_last_50000    q05_roll_std_10             q999   \n",
       "136                    mean_diff  q05_roll_std_1000  q01_roll_std_10   \n",
       "\n",
       "      val_score  \n",
       "1135   2.338697  \n",
       "378    2.339151  \n",
       "408    2.339403  \n",
       "524    2.346420  \n",
       "136    2.346871  "
      ]
     },
     "execution_count": 17,
     "metadata": {},
     "output_type": "execute_result"
    }
   ],
   "source": [
    "results_nn.sort_values(by=['val_score']).head()"
   ]
  },
  {
   "cell_type": "code",
   "execution_count": 18,
   "metadata": {},
   "outputs": [
    {
     "data": {
      "image/png": "[encoded data removed]",
      "text/plain": [
       "<Figure size 1152x360 with 2 Axes>"
      ]
     },
     "metadata": {
      "needs_background": "light"
     },
     "output_type": "display_data"
    }
   ],
   "source": [
    "plt.subplots(figsize=(16, 5))\n",
    "plt.subplot(1, 2, 1)\n",
    "plt.scatter(range(results_nn.shape[0]), results_nn.sort_values(by=['val_score'])['val_score'])\n",
    "plt.grid()\n",
    "plt.ylabel('validation score')\n",
    "plt.xlabel('NN number (sorted)')\n",
    "\n",
    "plt.subplot(1, 2, 2)\n",
    "plt.hist(results_nn['val_score'].tolist(), bins='auto')  # arguments are passed to np.histogram\n",
    "plt.grid()\n",
    "plt.ylabel('count')\n",
    "plt.xlabel('validation score')\n",
    "\n",
    "plt.show()"
   ]
  },
  {
   "cell_type": "code",
   "execution_count": null,
   "metadata": {},
   "outputs": [],
   "source": []
  }
 ],
 "metadata": {
  "kernelspec": {
   "display_name": "Python 3",
   "language": "python",
   "name": "python3"
  },
  "language_info": {
   "codemirror_mode": {
    "name": "ipython",
    "version": 3
   },
   "file_extension": ".py",
   "mimetype": "text/x-python",
   "name": "python",
   "nbconvert_exporter": "python",
   "pygments_lexer": "ipython3",
   "version": "3.7.3"
  }
 },
 "nbformat": 4,
 "nbformat_minor": 2
}
