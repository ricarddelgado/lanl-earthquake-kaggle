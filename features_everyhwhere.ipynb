{
 "cells": [
  {
   "cell_type": "markdown",
   "metadata": {},
   "source": [
    "# Features keynote"
   ]
  },
  {
   "cell_type": "code",
   "execution_count": 45,
   "metadata": {},
   "outputs": [],
   "source": [
    "import pandas as pd"
   ]
  },
  {
   "cell_type": "code",
   "execution_count": 46,
   "metadata": {},
   "outputs": [],
   "source": [
    "def intersection_ls1_not_in_ls2(lst1, lst2): \n",
    "    lst3 = [value for value in lst1 if value not in lst2] \n",
    "    return lst3 "
   ]
  },
  {
   "cell_type": "code",
   "execution_count": 47,
   "metadata": {},
   "outputs": [],
   "source": [
    "X_1 = pd.read_hdf('../tmp_results/X_tr.hdf', 'data') #Original (based on Andrew)\n",
    "X_2 = pd.read_csv('../input/lanl-features/train_features.csv') #Extended Andrew\n",
    "X_3 = pd.read_csv('../tmp_results/parameters_list_gdi.txt', sep=\" \")\n",
    "X_4 = pd.read_csv('../tmp_results/parameters_list_gdi_new.txt', sep=\" \")\n",
    "X_5 = pd.read_hdf('../tmp_results/X_tr2.hdf', 'data') #Original (based on Andrew)"
   ]
  },
  {
   "cell_type": "code",
   "execution_count": 48,
   "metadata": {},
   "outputs": [],
   "source": [
    "f1 = X_1.columns.tolist()\n",
    "f1.sort()\n",
    "f2 = X_2.columns.tolist()\n",
    "f2.sort()\n",
    "f3 = X_3['param'].tolist()\n",
    "f3.sort()\n",
    "f4 = X_4['param'].tolist()\n",
    "f4.sort()\n",
    "f5 = X_5.columns.tolist()\n",
    "f5.sort()"
   ]
  },
  {
   "cell_type": "markdown",
   "metadata": {},
   "source": [
    "Current feature set size: 216\n",
    "\n",
    "Extended feature set size (Andrew): 981\n",
    "\n",
    "Feature set used by gp: 128\n",
    "\n",
    "Feature set used by new gp: 594\n",
    "\n",
    "New feature set size: 1073"
   ]
  },
  {
   "cell_type": "code",
   "execution_count": 49,
   "metadata": {},
   "outputs": [
    {
     "name": "stdout",
     "output_type": "stream",
     "text": [
      "Current feature set size: 216\n",
      "Extended feature set size (Andrew): 981\n",
      "Feature set used by gp: 128\n",
      "Feature set used by new gp: 594\n",
      "New feature set size: 2294\n"
     ]
    }
   ],
   "source": [
    "print(f'Current feature set size: {len(f1)}')\n",
    "print(f'Extended feature set size (Andrew): {len(f2)}')\n",
    "print(f'Feature set used by gp: {len(f3)}')\n",
    "print(f'Feature set used by new gp: {len(f4)}')\n",
    "print(f'New feature set size: {len(f5)}')"
   ]
  },
  {
   "cell_type": "code",
   "execution_count": 50,
   "metadata": {},
   "outputs": [
    {
     "name": "stdout",
     "output_type": "stream",
     "text": [
      "Number of features used in GP that are not present in the original feature set: 0\n"
     ]
    }
   ],
   "source": [
    "l_size = len(intersection_ls1_not_in_ls2(f3, f1))\n",
    "print(f'Number of features used in GP that are not present in the original feature set: {l_size}')"
   ]
  },
  {
   "cell_type": "code",
   "execution_count": 51,
   "metadata": {},
   "outputs": [
    {
     "name": "stdout",
     "output_type": "stream",
     "text": [
      "Number of features used in GP that are not present in the original feature set: 0\n"
     ]
    }
   ],
   "source": [
    "l_size = len(intersection_ls1_not_in_ls2(f4, f2))\n",
    "print(f'Number of features used in GP that are not present in the original feature set: {l_size}')"
   ]
  },
  {
   "cell_type": "code",
   "execution_count": 52,
   "metadata": {},
   "outputs": [
    {
     "name": "stdout",
     "output_type": "stream",
     "text": [
      "Number of features used in GP that are not present in the original feature set: 523\n"
     ]
    }
   ],
   "source": [
    "l_size = len(intersection_ls1_not_in_ls2(f4, f1))\n",
    "print(f'Number of features used in GP that are not present in the original feature set: {l_size}')"
   ]
  },
  {
   "cell_type": "code",
   "execution_count": 53,
   "metadata": {},
   "outputs": [
    {
     "name": "stdout",
     "output_type": "stream",
     "text": [
      "Number of features used in GP that are not present in the original feature set: 0\n"
     ]
    }
   ],
   "source": [
    "l_size = len(intersection_ls1_not_in_ls2(f4, f5))\n",
    "print(f'Number of features used in GP that are not present in the original feature set: {l_size}')"
   ]
  },
  {
   "cell_type": "code",
   "execution_count": 54,
   "metadata": {},
   "outputs": [
    {
     "data": {
      "text/plain": [
       "[]"
      ]
     },
     "execution_count": 54,
     "metadata": {},
     "output_type": "execute_result"
    }
   ],
   "source": [
    "intersection_ls1_not_in_ls2(f4, f5)"
   ]
  },
  {
   "cell_type": "code",
   "execution_count": null,
   "metadata": {},
   "outputs": [],
   "source": []
  }
 ],
 "metadata": {
  "kernelspec": {
   "display_name": "Python 3",
   "language": "python",
   "name": "python3"
  },
  "language_info": {
   "codemirror_mode": {
    "name": "ipython",
    "version": 3
   },
   "file_extension": ".py",
   "mimetype": "text/x-python",
   "name": "python",
   "nbconvert_exporter": "python",
   "pygments_lexer": "ipython3",
   "version": "3.7.3"
  }
 },
 "nbformat": 4,
 "nbformat_minor": 2
}
