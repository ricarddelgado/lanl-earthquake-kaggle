{
 "cells": [
  {
   "cell_type": "markdown",
   "metadata": {},
   "source": [
    "# Features keynote"
   ]
  },
  {
   "cell_type": "code",
   "execution_count": 22,
   "metadata": {},
   "outputs": [],
   "source": [
    "import pandas as pd"
   ]
  },
  {
   "cell_type": "code",
   "execution_count": 23,
   "metadata": {},
   "outputs": [],
   "source": [
    "def intersection_ls1_not_in_ls2(lst1, lst2): \n",
    "    lst3 = [value for value in lst1 if value not in lst2] \n",
    "    return lst3 "
   ]
  },
  {
   "cell_type": "code",
   "execution_count": 24,
   "metadata": {},
   "outputs": [],
   "source": [
    "X_1 = pd.read_hdf('../tmp_results/X_tr.hdf', 'data') #Original (based on Andrew)\n",
    "X_2 = pd.read_csv('../input/lanl-features/train_features.csv') #Extended Andrew\n",
    "X_3 = pd.read_csv('../tmp_results/parameters_list_gdi.txt', sep=\" \")\n",
    "X_4 = pd.read_csv('../tmp_results/parameters_list_gdi_new.txt', sep=\" \")\n",
    "X_5 = pd.read_hdf('../tmp_results/X_tr2.hdf', 'data') #Original (based on Andrew)\n",
    "X_6 = pd.read_csv('../tmp_results/parameters_list_gdi_tiny.txt', sep=\" \")"
   ]
  },
  {
   "cell_type": "code",
   "execution_count": 28,
   "metadata": {},
   "outputs": [],
   "source": [
    "f1 = X_1.columns.tolist()\n",
    "f1.sort()\n",
    "f2 = X_2.columns.tolist()\n",
    "f2.sort()\n",
    "f3 = X_3['param'].tolist()\n",
    "f3.sort()\n",
    "f4 = X_4['param'].tolist()\n",
    "f4.sort()\n",
    "f5 = X_5.columns.tolist()\n",
    "f5.sort()\n",
    "f6 = X_6['param'].tolist()\n",
    "f6.sort()"
   ]
  },
  {
   "cell_type": "markdown",
   "metadata": {},
   "source": [
    "Current feature set size: 216\n",
    "\n",
    "Extended feature set size (Andrew): 981\n",
    "\n",
    "Feature set used by gp: 128\n",
    "\n",
    "Feature set used by new gp: 594\n",
    "\n",
    "New feature set size: 1073"
   ]
  },
  {
   "cell_type": "code",
   "execution_count": 29,
   "metadata": {},
   "outputs": [
    {
     "name": "stdout",
     "output_type": "stream",
     "text": [
      "Current feature set size: 216\n",
      "Extended feature set size (Andrew): 981\n",
      "Feature set used by gp: 128\n",
      "Feature set used by new gp: 594\n",
      "New feature set size: 2294\n",
      "Feature set used by tiny gp: 12\n"
     ]
    }
   ],
   "source": [
    "print(f'Current feature set size: {len(f1)}')\n",
    "print(f'Extended feature set size (Andrew): {len(f2)}')\n",
    "print(f'Feature set used by gp: {len(f3)}')\n",
    "print(f'Feature set used by new gp: {len(f4)}')\n",
    "print(f'New feature set size: {len(f5)}')\n",
    "print(f'Feature set used by tiny gp: {len(f6)}')"
   ]
  },
  {
   "cell_type": "code",
   "execution_count": 30,
   "metadata": {},
   "outputs": [
    {
     "name": "stdout",
     "output_type": "stream",
     "text": [
      "Number of features used in GP that are not present in the original feature set: 0\n"
     ]
    }
   ],
   "source": [
    "l_size = len(intersection_ls1_not_in_ls2(f3, f1))\n",
    "print(f'Number of features used in GP that are not present in the original feature set: {l_size}')"
   ]
  },
  {
   "cell_type": "code",
   "execution_count": 31,
   "metadata": {},
   "outputs": [
    {
     "name": "stdout",
     "output_type": "stream",
     "text": [
      "Number of features used in GP that are not present in the original feature set: 0\n"
     ]
    }
   ],
   "source": [
    "l_size = len(intersection_ls1_not_in_ls2(f4, f2))\n",
    "print(f'Number of features used in GP that are not present in the original feature set: {l_size}')"
   ]
  },
  {
   "cell_type": "code",
   "execution_count": 32,
   "metadata": {},
   "outputs": [
    {
     "name": "stdout",
     "output_type": "stream",
     "text": [
      "Number of features used in GP that are not present in the original feature set: 523\n"
     ]
    }
   ],
   "source": [
    "l_size = len(intersection_ls1_not_in_ls2(f4, f1))\n",
    "print(f'Number of features used in GP that are not present in the original feature set: {l_size}')"
   ]
  },
  {
   "cell_type": "code",
   "execution_count": 33,
   "metadata": {},
   "outputs": [
    {
     "name": "stdout",
     "output_type": "stream",
     "text": [
      "Number of features used in GP that are not present in the original feature set: 0\n"
     ]
    }
   ],
   "source": [
    "l_size = len(intersection_ls1_not_in_ls2(f4, f5))\n",
    "print(f'Number of features used in GP that are not present in the original feature set: {l_size}')"
   ]
  },
  {
   "cell_type": "code",
   "execution_count": 35,
   "metadata": {},
   "outputs": [
    {
     "data": {
      "text/plain": [
       "['binned_entropy_95', 'binned_entropy_99']"
      ]
     },
     "execution_count": 35,
     "metadata": {},
     "output_type": "execute_result"
    }
   ],
   "source": [
    "intersection_ls1_not_in_ls2(f6, f5)"
   ]
  },
  {
   "cell_type": "code",
   "execution_count": 37,
   "metadata": {},
   "outputs": [
    {
     "data": {
      "text/plain": [
       "False"
      ]
     },
     "execution_count": 37,
     "metadata": {},
     "output_type": "execute_result"
    }
   ],
   "source": []
  },
  {
   "cell_type": "code",
   "execution_count": 64,
   "metadata": {},
   "outputs": [
    {
     "data": {
      "text/plain": [
       "['ffti_num_peaks_10',\n",
       " 'ffti_num_peaks_100',\n",
       " 'ffti_num_peaks_20',\n",
       " 'ffti_num_peaks_50',\n",
       " 'fftr_num_peaks_10',\n",
       " 'fftr_num_peaks_100',\n",
       " 'fftr_num_peaks_20',\n",
       " 'fftr_num_peaks_50',\n",
       " 'num_peaks_10',\n",
       " 'num_peaks_100',\n",
       " 'num_peaks_20',\n",
       " 'num_peaks_50']"
      ]
     },
     "execution_count": 64,
     "metadata": {},
     "output_type": "execute_result"
    }
   ],
   "source": [
    "matching = [s for s in f5 if \"num_peaks\" in s]\n",
    "matching"
   ]
  },
  {
   "cell_type": "code",
   "execution_count": null,
   "metadata": {},
   "outputs": [],
   "source": []
  },
  {
   "cell_type": "code",
   "execution_count": null,
   "metadata": {},
   "outputs": [],
   "source": []
  }
 ],
 "metadata": {
  "kernelspec": {
   "display_name": "Python 3",
   "language": "python",
   "name": "python3"
  },
  "language_info": {
   "codemirror_mode": {
    "name": "ipython",
    "version": 3
   },
   "file_extension": ".py",
   "mimetype": "text/x-python",
   "name": "python",
   "nbconvert_exporter": "python",
   "pygments_lexer": "ipython3",
   "version": "3.7.3"
  }
 },
 "nbformat": 4,
 "nbformat_minor": 2
}
