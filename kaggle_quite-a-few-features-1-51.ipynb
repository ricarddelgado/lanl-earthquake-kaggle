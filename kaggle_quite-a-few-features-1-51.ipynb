{
 "cells": [
  {
   "cell_type": "code",
   "execution_count": 76,
   "metadata": {
    "_cell_guid": "b1076dfc-b9ad-4769-8c92-a6c4dae69d19",
    "_uuid": "8f2839f25d086af736a60e9eeb907d3b93b6e0e5"
   },
   "outputs": [
    {
     "name": "stdout",
     "output_type": "stream",
     "text": [
      "['train.csv', 'test', 'sample_submission.csv', '.ipynb_checkpoints', 'train.zip', 'train.feather']\n"
     ]
    }
   ],
   "source": [
    "import numpy as np\n",
    "import pandas as pd\n",
    "from tqdm import tqdm_notebook as tqdm\n",
    "from joblib import Parallel, delayed\n",
    "import os\n",
    "import gc\n",
    "from tqdm import tqdm_notebook\n",
    "import random\n",
    "import xgboost as xgb\n",
    "from sklearn.model_selection import KFold\n",
    "import scipy as sp\n",
    "from sklearn import metrics\n",
    "from tsfresh.feature_extraction import feature_calculators\n",
    "import matplotlib.pyplot as plt\n",
    "\n",
    "print(os.listdir(\"../input\"))"
   ]
  },
  {
   "cell_type": "code",
   "execution_count": 77,
   "metadata": {
    "_cell_guid": "79c7e3d0-c299-4dcb-8224-4455121ee9b0",
    "_uuid": "d629ff2d2480ee46fbb7e2d37f6b5fab8052498a"
   },
   "outputs": [],
   "source": [
    "class FeatureGenerator(object):\n",
    "    def __init__(self, dtype, n_jobs=1, chunk_size=None):\n",
    "        self.chunk_size = chunk_size\n",
    "        self.dtype = dtype\n",
    "        self.filename = None\n",
    "        self.n_jobs = n_jobs\n",
    "        self.test_files = []\n",
    "        if self.dtype == 'train':\n",
    "            self.filename = '../input/train.csv'\n",
    "            self.total_data = int(629145481 / self.chunk_size)\n",
    "        else:\n",
    "            submission = pd.read_csv('../input/sample_submission.csv')\n",
    "            for seg_id in submission.seg_id.values:\n",
    "                self.test_files.append((seg_id, '../input/test/' + seg_id + '.csv'))\n",
    "            self.total_data = int(len(submission))\n",
    "\n",
    "    def read_chunks(self):\n",
    "        if self.dtype == 'train':\n",
    "            iter_df = pd.read_csv(self.filename, iterator=True, chunksize=self.chunk_size,\n",
    "                                  dtype={'acoustic_data': np.float64, 'time_to_failure': np.float64})\n",
    "            for counter, df in enumerate(iter_df):\n",
    "                x = df.acoustic_data.values\n",
    "                y = df.time_to_failure.values[-1]\n",
    "                seg_id = 'train_' + str(counter)\n",
    "                del df\n",
    "                yield seg_id, x, y\n",
    "        else:\n",
    "            for seg_id, f in self.test_files:\n",
    "                df = pd.read_csv(f, dtype={'acoustic_data': np.float64})\n",
    "                x = df.acoustic_data.values[-self.chunk_size:]\n",
    "                del df\n",
    "                yield seg_id, x, -999\n",
    "\n",
    "    def features(self, x, y, seg_id):\n",
    "        feature_dict = dict()\n",
    "        feature_dict['target'] = y\n",
    "        feature_dict['seg_id'] = seg_id\n",
    "\n",
    "        # create features here\n",
    "        # numpy\n",
    "        feature_dict['mean'] = np.mean(x)\n",
    "        feature_dict['max'] = np.max(x)\n",
    "        feature_dict['min'] = np.min(x)\n",
    "        feature_dict['std'] = np.std(x)\n",
    "        feature_dict['var'] = np.var(x)\n",
    "        feature_dict['ptp'] = np.ptp(x)\n",
    "        feature_dict['percentile_10'] = np.percentile(x, 10)\n",
    "        feature_dict['percentile_20'] = np.percentile(x, 20)\n",
    "        feature_dict['percentile_30'] = np.percentile(x, 30)\n",
    "        feature_dict['percentile_40'] = np.percentile(x, 40)\n",
    "        feature_dict['percentile_50'] = np.percentile(x, 50)\n",
    "        feature_dict['percentile_60'] = np.percentile(x, 60)\n",
    "        feature_dict['percentile_70'] = np.percentile(x, 70)\n",
    "        feature_dict['percentile_80'] = np.percentile(x, 80)\n",
    "        feature_dict['percentile_90'] = np.percentile(x, 90)\n",
    "\n",
    "        # scipy\n",
    "        feature_dict['skew'] = sp.stats.skew(x)\n",
    "        feature_dict['kurtosis'] = sp.stats.kurtosis(x)\n",
    "        feature_dict['kstat_1'] = sp.stats.kstat(x, 1)\n",
    "        feature_dict['kstat_2'] = sp.stats.kstat(x, 2)\n",
    "        feature_dict['kstat_3'] = sp.stats.kstat(x, 3)\n",
    "        feature_dict['kstat_4'] = sp.stats.kstat(x, 4)\n",
    "        feature_dict['moment_1'] = sp.stats.moment(x, 1)\n",
    "        feature_dict['moment_2'] = sp.stats.moment(x, 2)\n",
    "        feature_dict['moment_3'] = sp.stats.moment(x, 3)\n",
    "        feature_dict['moment_4'] = sp.stats.moment(x, 4)\n",
    "        \n",
    "        feature_dict['abs_energy'] = feature_calculators.abs_energy(x)\n",
    "        feature_dict['abs_sum_of_changes'] = feature_calculators.absolute_sum_of_changes(x)\n",
    "        feature_dict['count_above_mean'] = feature_calculators.count_above_mean(x)\n",
    "        feature_dict['count_below_mean'] = feature_calculators.count_below_mean(x)\n",
    "        feature_dict['mean_abs_change'] = feature_calculators.mean_abs_change(x)\n",
    "        feature_dict['mean_change'] = feature_calculators.mean_change(x)\n",
    "        feature_dict['var_larger_than_std_dev'] = feature_calculators.variance_larger_than_standard_deviation(x)\n",
    "        feature_dict['range_minf_m4000'] = feature_calculators.range_count(x, -np.inf, -4000)\n",
    "        feature_dict['range_m4000_m3000'] = feature_calculators.range_count(x, -4000, -3000)\n",
    "        feature_dict['range_m3000_m2000'] = feature_calculators.range_count(x, -3000, -2000)\n",
    "        feature_dict['range_m2000_m1000'] = feature_calculators.range_count(x, -2000, -1000)\n",
    "        feature_dict['range_m1000_0'] = feature_calculators.range_count(x, -1000, 0)\n",
    "        feature_dict['range_0_p1000'] = feature_calculators.range_count(x, 0, 1000)\n",
    "        feature_dict['range_p1000_p2000'] = feature_calculators.range_count(x, 1000, 2000)\n",
    "        feature_dict['range_p2000_p3000'] = feature_calculators.range_count(x, 2000, 3000)\n",
    "        feature_dict['range_p3000_p4000'] = feature_calculators.range_count(x, 3000, 4000)\n",
    "        feature_dict['range_p4000_pinf'] = feature_calculators.range_count(x, 4000, np.inf)\n",
    "\n",
    "        feature_dict['ratio_unique_values'] = feature_calculators.ratio_value_number_to_time_series_length(x)\n",
    "        feature_dict['first_loc_min'] = feature_calculators.first_location_of_minimum(x)\n",
    "        feature_dict['first_loc_max'] = feature_calculators.first_location_of_maximum(x)\n",
    "        feature_dict['last_loc_min'] = feature_calculators.last_location_of_minimum(x)\n",
    "        feature_dict['last_loc_max'] = feature_calculators.last_location_of_maximum(x)\n",
    "        feature_dict['time_rev_asym_stat_10'] = feature_calculators.time_reversal_asymmetry_statistic(x, 10)\n",
    "        feature_dict['time_rev_asym_stat_100'] = feature_calculators.time_reversal_asymmetry_statistic(x, 100)\n",
    "        feature_dict['time_rev_asym_stat_1000'] = feature_calculators.time_reversal_asymmetry_statistic(x, 1000)\n",
    "        feature_dict['autocorrelation_5'] = feature_calculators.autocorrelation(x, 5)\n",
    "        feature_dict['autocorrelation_10'] = feature_calculators.autocorrelation(x, 10)\n",
    "        feature_dict['autocorrelation_50'] = feature_calculators.autocorrelation(x, 50)\n",
    "        feature_dict['autocorrelation_100'] = feature_calculators.autocorrelation(x, 100)\n",
    "        feature_dict['autocorrelation_1000'] = feature_calculators.autocorrelation(x, 1000)\n",
    "        feature_dict['c3_5'] = feature_calculators.c3(x, 5)\n",
    "        feature_dict['c3_10'] = feature_calculators.c3(x, 10)\n",
    "        feature_dict['c3_100'] = feature_calculators.c3(x, 100)\n",
    "        feature_dict['fft_1_real'] = list(feature_calculators.fft_coefficient(x, [{'coeff': 1, 'attr': 'real'}]))[0][1]\n",
    "        feature_dict['fft_1_imag'] = list(feature_calculators.fft_coefficient(x, [{'coeff': 1, 'attr': 'imag'}]))[0][1]\n",
    "        feature_dict['fft_1_ang'] = list(feature_calculators.fft_coefficient(x, [{'coeff': 1, 'attr': 'angle'}]))[0][1]\n",
    "        feature_dict['fft_2_real'] = list(feature_calculators.fft_coefficient(x, [{'coeff': 2, 'attr': 'real'}]))[0][1]\n",
    "        feature_dict['fft_2_imag'] = list(feature_calculators.fft_coefficient(x, [{'coeff': 2, 'attr': 'imag'}]))[0][1]\n",
    "        feature_dict['fft_2_ang'] = list(feature_calculators.fft_coefficient(x, [{'coeff': 2, 'attr': 'angle'}]))[0][1]\n",
    "        feature_dict['fft_3_real'] = list(feature_calculators.fft_coefficient(x, [{'coeff': 3, 'attr': 'real'}]))[0][1]\n",
    "        feature_dict['fft_3_imag'] = list(feature_calculators.fft_coefficient(x, [{'coeff': 3, 'attr': 'imag'}]))[0][1]\n",
    "        feature_dict['fft_3_ang'] = list(feature_calculators.fft_coefficient(x, [{'coeff': 3, 'attr': 'angle'}]))[0][1]\n",
    "        feature_dict['long_strk_above_mean'] = feature_calculators.longest_strike_above_mean(x)\n",
    "        feature_dict['long_strk_below_mean'] = feature_calculators.longest_strike_below_mean(x)\n",
    "        feature_dict['cid_ce_0'] = feature_calculators.cid_ce(x, 0)\n",
    "        feature_dict['cid_ce_1'] = feature_calculators.cid_ce(x, 1)\n",
    "        feature_dict['binned_entropy_5'] = feature_calculators.binned_entropy(x, 5)\n",
    "        feature_dict['binned_entropy_10'] = feature_calculators.binned_entropy(x, 10)\n",
    "        feature_dict['binned_entropy_20'] = feature_calculators.binned_entropy(x, 20)\n",
    "        feature_dict['binned_entropy_50'] = feature_calculators.binned_entropy(x, 50)\n",
    "        feature_dict['binned_entropy_80'] = feature_calculators.binned_entropy(x, 80)\n",
    "        feature_dict['binned_entropy_100'] = feature_calculators.binned_entropy(x, 100)\n",
    "\n",
    "        feature_dict['num_crossing_0'] = feature_calculators.number_crossing_m(x, 0)\n",
    "        feature_dict['num_peaks_10'] = feature_calculators.number_peaks(x, 10)\n",
    "        feature_dict['num_peaks_50'] = feature_calculators.number_peaks(x, 50)\n",
    "        feature_dict['num_peaks_100'] = feature_calculators.number_peaks(x, 100)\n",
    "        feature_dict['num_peaks_500'] = feature_calculators.number_peaks(x, 500)\n",
    "\n",
    "        feature_dict['spkt_welch_density_1'] = list(feature_calculators.spkt_welch_density(x, [{'coeff': 1}]))[0][1]\n",
    "        feature_dict['spkt_welch_density_10'] = list(feature_calculators.spkt_welch_density(x, [{'coeff': 10}]))[0][1]\n",
    "        feature_dict['spkt_welch_density_50'] = list(feature_calculators.spkt_welch_density(x, [{'coeff': 50}]))[0][1]\n",
    "        feature_dict['spkt_welch_density_100'] = list(feature_calculators.spkt_welch_density(x, [{'coeff': 100}]))[0][1]\n",
    "\n",
    "        feature_dict['time_rev_asym_stat_1'] = feature_calculators.time_reversal_asymmetry_statistic(x, 1)\n",
    "        feature_dict['time_rev_asym_stat_10'] = feature_calculators.time_reversal_asymmetry_statistic(x, 10)\n",
    "        feature_dict['time_rev_asym_stat_100'] = feature_calculators.time_reversal_asymmetry_statistic(x, 100)        \n",
    "\n",
    "        return feature_dict\n",
    "\n",
    "    def generate(self):\n",
    "        feature_list = []\n",
    "        res = Parallel(n_jobs=self.n_jobs,\n",
    "                       backend='threading')(delayed(self.features)(x, y, s)\n",
    "                                            for s, x, y in tqdm(self.read_chunks(), total=self.total_data))\n",
    "        for r in res:\n",
    "            feature_list.append(r)\n",
    "        return pd.DataFrame(feature_list)"
   ]
  },
  {
   "cell_type": "code",
   "execution_count": 78,
   "metadata": {
    "_cell_guid": "79c7e3d0-c299-4dcb-8224-4455121ee9b0",
    "_uuid": "d629ff2d2480ee46fbb7e2d37f6b5fab8052498a"
   },
   "outputs": [],
   "source": [
    "compute_features = False"
   ]
  },
  {
   "cell_type": "code",
   "execution_count": 79,
   "metadata": {},
   "outputs": [],
   "source": [
    "saved_files_present = (os.path.isfile('../tmp_results/training_data.hdf') and\n",
    "                       os.path.isfile('../tmp_results/test_data.hdf') )"
   ]
  },
  {
   "cell_type": "code",
   "execution_count": 80,
   "metadata": {},
   "outputs": [
    {
     "name": "stdout",
     "output_type": "stream",
     "text": [
      "Reading hdf files:Done\n"
     ]
    }
   ],
   "source": [
    "if (not compute_features) and saved_files_present:\n",
    "    print(f\"Reading hdf files:\", end=\"\")\n",
    "    training_data = pd.read_hdf('../tmp_results/training_data.hdf', 'data')\n",
    "    test_data = pd.read_hdf('../tmp_results/test_data.hdf', 'data')  \n",
    "    print(\"Done\")\n",
    "else:\n",
    "    training_fg = FeatureGenerator(dtype='train', n_jobs=10, chunk_size=150000)\n",
    "    training_data = training_fg.generate()\n",
    "    test_fg = FeatureGenerator(dtype='test', n_jobs=32, chunk_size=150000)\n",
    "    test_data = test_fg.generate()\n",
    "    \n",
    "    training_data.to_hdf('../tmp_results/training_data.hdf', 'data')\n",
    "    test_data.to_hdf('../tmp_results/test_data.hdf', 'data')"
   ]
  },
  {
   "cell_type": "code",
   "execution_count": 81,
   "metadata": {},
   "outputs": [],
   "source": [
    "X = training_data.drop(['target', 'seg_id'], axis=1)\n",
    "X_test = test_data.drop(['target', 'seg_id'], axis=1)\n",
    "test_segs = test_data.seg_id\n",
    "y = training_data.target"
   ]
  },
  {
   "cell_type": "code",
   "execution_count": 82,
   "metadata": {},
   "outputs": [
    {
     "data": {
      "text/html": [
       "<div>\n",
       "<style scoped>\n",
       "    .dataframe tbody tr th:only-of-type {\n",
       "        vertical-align: middle;\n",
       "    }\n",
       "\n",
       "    .dataframe tbody tr th {\n",
       "        vertical-align: top;\n",
       "    }\n",
       "\n",
       "    .dataframe thead th {\n",
       "        text-align: right;\n",
       "    }\n",
       "</style>\n",
       "<table border=\"1\" class=\"dataframe\">\n",
       "  <thead>\n",
       "    <tr style=\"text-align: right;\">\n",
       "      <th></th>\n",
       "      <th>abs_energy</th>\n",
       "      <th>abs_sum_of_changes</th>\n",
       "      <th>autocorrelation_10</th>\n",
       "      <th>autocorrelation_100</th>\n",
       "      <th>autocorrelation_1000</th>\n",
       "      <th>autocorrelation_5</th>\n",
       "      <th>autocorrelation_50</th>\n",
       "      <th>binned_entropy_10</th>\n",
       "      <th>binned_entropy_100</th>\n",
       "      <th>binned_entropy_20</th>\n",
       "      <th>...</th>\n",
       "      <th>spkt_welch_density_10</th>\n",
       "      <th>spkt_welch_density_100</th>\n",
       "      <th>spkt_welch_density_50</th>\n",
       "      <th>std</th>\n",
       "      <th>time_rev_asym_stat_1</th>\n",
       "      <th>time_rev_asym_stat_10</th>\n",
       "      <th>time_rev_asym_stat_100</th>\n",
       "      <th>time_rev_asym_stat_1000</th>\n",
       "      <th>var</th>\n",
       "      <th>var_larger_than_std_dev</th>\n",
       "    </tr>\n",
       "  </thead>\n",
       "  <tbody>\n",
       "    <tr>\n",
       "      <th>0</th>\n",
       "      <td>7481351.0</td>\n",
       "      <td>391980.0</td>\n",
       "      <td>-0.469692</td>\n",
       "      <td>0.000897</td>\n",
       "      <td>-0.004982</td>\n",
       "      <td>-0.104409</td>\n",
       "      <td>0.194823</td>\n",
       "      <td>0.608435</td>\n",
       "      <td>2.031982</td>\n",
       "      <td>0.749316</td>\n",
       "      <td>...</td>\n",
       "      <td>331.303127</td>\n",
       "      <td>7.080859</td>\n",
       "      <td>15.608985</td>\n",
       "      <td>5.101089</td>\n",
       "      <td>-0.177656</td>\n",
       "      <td>-14.764689</td>\n",
       "      <td>-1.703218</td>\n",
       "      <td>1.169500</td>\n",
       "      <td>26.021110</td>\n",
       "      <td>True</td>\n",
       "    </tr>\n",
       "    <tr>\n",
       "      <th>1</th>\n",
       "      <td>9861777.0</td>\n",
       "      <td>405226.0</td>\n",
       "      <td>-0.450367</td>\n",
       "      <td>-0.079143</td>\n",
       "      <td>0.028924</td>\n",
       "      <td>-0.060995</td>\n",
       "      <td>0.201809</td>\n",
       "      <td>0.173829</td>\n",
       "      <td>1.746088</td>\n",
       "      <td>0.325294</td>\n",
       "      <td>...</td>\n",
       "      <td>696.779429</td>\n",
       "      <td>6.463803</td>\n",
       "      <td>16.771432</td>\n",
       "      <td>6.588802</td>\n",
       "      <td>-0.284957</td>\n",
       "      <td>91.001093</td>\n",
       "      <td>-38.729232</td>\n",
       "      <td>-0.665973</td>\n",
       "      <td>43.412309</td>\n",
       "      <td>True</td>\n",
       "    </tr>\n",
       "    <tr>\n",
       "      <th>2</th>\n",
       "      <td>10892549.0</td>\n",
       "      <td>418888.0</td>\n",
       "      <td>-0.480152</td>\n",
       "      <td>-0.004648</td>\n",
       "      <td>0.000682</td>\n",
       "      <td>-0.057935</td>\n",
       "      <td>0.210424</td>\n",
       "      <td>0.249729</td>\n",
       "      <td>2.091689</td>\n",
       "      <td>0.930488</td>\n",
       "      <td>...</td>\n",
       "      <td>621.906904</td>\n",
       "      <td>6.853157</td>\n",
       "      <td>16.479469</td>\n",
       "      <td>6.967374</td>\n",
       "      <td>-0.693163</td>\n",
       "      <td>-105.719163</td>\n",
       "      <td>78.751722</td>\n",
       "      <td>4.284682</td>\n",
       "      <td>48.544298</td>\n",
       "      <td>True</td>\n",
       "    </tr>\n",
       "    <tr>\n",
       "      <th>3</th>\n",
       "      <td>10792492.0</td>\n",
       "      <td>405840.0</td>\n",
       "      <td>-0.374296</td>\n",
       "      <td>-0.182497</td>\n",
       "      <td>0.003321</td>\n",
       "      <td>-0.014952</td>\n",
       "      <td>0.142093</td>\n",
       "      <td>0.257337</td>\n",
       "      <td>1.585429</td>\n",
       "      <td>0.333215</td>\n",
       "      <td>...</td>\n",
       "      <td>317.693579</td>\n",
       "      <td>7.041170</td>\n",
       "      <td>16.029480</td>\n",
       "      <td>6.922282</td>\n",
       "      <td>0.234850</td>\n",
       "      <td>11.626424</td>\n",
       "      <td>263.667817</td>\n",
       "      <td>20.922365</td>\n",
       "      <td>47.917990</td>\n",
       "      <td>True</td>\n",
       "    </tr>\n",
       "    <tr>\n",
       "      <th>4</th>\n",
       "      <td>11610208.0</td>\n",
       "      <td>406869.0</td>\n",
       "      <td>-0.385905</td>\n",
       "      <td>0.008272</td>\n",
       "      <td>0.008127</td>\n",
       "      <td>0.114258</td>\n",
       "      <td>0.157836</td>\n",
       "      <td>0.433816</td>\n",
       "      <td>1.980019</td>\n",
       "      <td>0.570783</td>\n",
       "      <td>...</td>\n",
       "      <td>752.760456</td>\n",
       "      <td>6.487512</td>\n",
       "      <td>16.418452</td>\n",
       "      <td>7.301086</td>\n",
       "      <td>0.126008</td>\n",
       "      <td>12.574097</td>\n",
       "      <td>99.323571</td>\n",
       "      <td>-14.195959</td>\n",
       "      <td>53.305855</td>\n",
       "      <td>True</td>\n",
       "    </tr>\n",
       "  </tbody>\n",
       "</table>\n",
       "<p>5 rows × 87 columns</p>\n",
       "</div>"
      ],
      "text/plain": [
       "   abs_energy  abs_sum_of_changes  autocorrelation_10  autocorrelation_100  \\\n",
       "0   7481351.0            391980.0           -0.469692             0.000897   \n",
       "1   9861777.0            405226.0           -0.450367            -0.079143   \n",
       "2  10892549.0            418888.0           -0.480152            -0.004648   \n",
       "3  10792492.0            405840.0           -0.374296            -0.182497   \n",
       "4  11610208.0            406869.0           -0.385905             0.008272   \n",
       "\n",
       "   autocorrelation_1000  autocorrelation_5  autocorrelation_50  \\\n",
       "0             -0.004982          -0.104409            0.194823   \n",
       "1              0.028924          -0.060995            0.201809   \n",
       "2              0.000682          -0.057935            0.210424   \n",
       "3              0.003321          -0.014952            0.142093   \n",
       "4              0.008127           0.114258            0.157836   \n",
       "\n",
       "   binned_entropy_10  binned_entropy_100  binned_entropy_20  ...  \\\n",
       "0           0.608435            2.031982           0.749316  ...   \n",
       "1           0.173829            1.746088           0.325294  ...   \n",
       "2           0.249729            2.091689           0.930488  ...   \n",
       "3           0.257337            1.585429           0.333215  ...   \n",
       "4           0.433816            1.980019           0.570783  ...   \n",
       "\n",
       "   spkt_welch_density_10  spkt_welch_density_100  spkt_welch_density_50  \\\n",
       "0             331.303127                7.080859              15.608985   \n",
       "1             696.779429                6.463803              16.771432   \n",
       "2             621.906904                6.853157              16.479469   \n",
       "3             317.693579                7.041170              16.029480   \n",
       "4             752.760456                6.487512              16.418452   \n",
       "\n",
       "        std  time_rev_asym_stat_1  time_rev_asym_stat_10  \\\n",
       "0  5.101089             -0.177656             -14.764689   \n",
       "1  6.588802             -0.284957              91.001093   \n",
       "2  6.967374             -0.693163            -105.719163   \n",
       "3  6.922282              0.234850              11.626424   \n",
       "4  7.301086              0.126008              12.574097   \n",
       "\n",
       "   time_rev_asym_stat_100  time_rev_asym_stat_1000        var  \\\n",
       "0               -1.703218                 1.169500  26.021110   \n",
       "1              -38.729232                -0.665973  43.412309   \n",
       "2               78.751722                 4.284682  48.544298   \n",
       "3              263.667817                20.922365  47.917990   \n",
       "4               99.323571               -14.195959  53.305855   \n",
       "\n",
       "   var_larger_than_std_dev  \n",
       "0                     True  \n",
       "1                     True  \n",
       "2                     True  \n",
       "3                     True  \n",
       "4                     True  \n",
       "\n",
       "[5 rows x 87 columns]"
      ]
     },
     "execution_count": 82,
     "metadata": {},
     "output_type": "execute_result"
    }
   ],
   "source": [
    "X.head()"
   ]
  },
  {
   "cell_type": "code",
   "execution_count": 83,
   "metadata": {},
   "outputs": [],
   "source": [
    "n_splits = 5\n",
    "folds = KFold(n_splits=n_splits, shuffle=True, random_state=42)\n",
    "oof_preds = np.zeros((len(X), 1))\n",
    "test_preds = np.zeros((len(X_test), 1))"
   ]
  },
  {
   "cell_type": "code",
   "execution_count": 85,
   "metadata": {},
   "outputs": [],
   "source": [
    "fixed_params = {\n",
    "    'objective': 'reg:linear',\n",
    "    'eval_metric': 'mae',\n",
    "    \"n_estimators\": 10000,\n",
    "    \"nthread\": 32,\n",
    "    \"random_state\": 42\n",
    "}"
   ]
  },
  {
   "cell_type": "code",
   "execution_count": 86,
   "metadata": {},
   "outputs": [],
   "source": [
    "param_grid = {\n",
    "    \"learning_rate\": [0.1, 0.05, 0.01, 0.005, 0.001],\n",
    "    \"max_depth\": [2, 4, 5, 6, 7, 8, 9, 10, 16, 32, 64, 128],\n",
    "    \"min_child_weight\": [1],\n",
    "    \"colsample_bytree\": [0.3, 0.5, 0.7, 0.9],\n",
    "    \"subsample\": [0.1, 0.25, 0.5, 0.75, 0.9, 1.0]\n",
    "}"
   ]
  },
  {
   "cell_type": "code",
   "execution_count": 87,
   "metadata": {},
   "outputs": [
    {
     "name": "stdout",
     "output_type": "stream",
     "text": [
      "The search grid has 1440 elements\n"
     ]
    }
   ],
   "source": [
    "grid_size = 1\n",
    "for param in param_grid:\n",
    "    grid_size *= len(param_grid[param])\n",
    "print(f'The search grid has {grid_size} elements')"
   ]
  },
  {
   "cell_type": "code",
   "execution_count": 88,
   "metadata": {
    "scrolled": true
   },
   "outputs": [
    {
     "data": {
      "application/vnd.jupyter.widget-view+json": {
       "model_id": "0bc250adf0cf48b3bcd82f469450d38e",
       "version_major": 2,
       "version_minor": 0
      },
      "text/plain": [
       "HBox(children=(IntProgress(value=0, max=1), HTML(value='')))"
      ]
     },
     "metadata": {},
     "output_type": "display_data"
    },
    {
     "name": "stdout",
     "output_type": "stream",
     "text": [
      "Iteration 0 finished with mae=2.0995 and std=0.0531\n",
      "\n"
     ]
    }
   ],
   "source": [
    "best_score = 9999\n",
    "\n",
    "dataset = xgb.DMatrix(data=X, label=y, feature_names=X.columns)\n",
    "scores_val_mean = []\n",
    "scores_val_std = []\n",
    "for i in tqdm_notebook(range(1)):\n",
    "    params = {k: random.choice(v) for k, v in param_grid.items()}\n",
    "    params.update(fixed_params)\n",
    "    result = xgb.cv(params,\n",
    "                    dataset,\n",
    "                    nfold=n_splits,\n",
    "                    num_boost_round=20000,\n",
    "                    early_stopping_rounds=200,\n",
    "                    stratified=False)\n",
    "    \n",
    "    print(f\"Iteration {i} finished with mae={result['test-mae-mean'].iloc[-1]:.4f} and std={result['test-mae-std'].iloc[-1]:.4f}\")\n",
    "    scores_val_mean.append(result['test-mae-mean'].iloc[-1])\n",
    "    scores_val_std.append(result['test-mae-std'].iloc[-1])\n",
    "          \n",
    "    if result['test-mae-mean'].iloc[-1] < best_score:\n",
    "        best_score = result['test-mae-mean'].iloc[-1]\n",
    "        best_score_std = result['test-mae-std'].iloc[-1]\n",
    "        best_params = params        "
   ]
  },
  {
   "cell_type": "code",
   "execution_count": 90,
   "metadata": {},
   "outputs": [
    {
     "data": {
      "text/plain": [
       "[<matplotlib.lines.Line2D at 0x7f65dc45e828>]"
      ]
     },
     "execution_count": 90,
     "metadata": {},
     "output_type": "execute_result"
    },
    {
     "data": {
      "image/png": "[encoded data removed]",
      "text/plain": [
       "<Figure size 432x288 with 1 Axes>"
      ]
     },
     "metadata": {
      "needs_background": "light"
     },
     "output_type": "display_data"
    }
   ],
   "source": [
    "plt.figure()\n",
    "plt.plot(result['test-mae-mean'])"
   ]
  },
  {
   "cell_type": "code",
   "execution_count": 91,
   "metadata": {},
   "outputs": [
    {
     "data": {
      "text/plain": [
       "[<matplotlib.lines.Line2D at 0x7f65dc5778d0>]"
      ]
     },
     "execution_count": 91,
     "metadata": {},
     "output_type": "execute_result"
    },
    {
     "data": {
      "image/png": "[encoded data removed]",
      "text/plain": [
       "<Figure size 432x288 with 1 Axes>"
      ]
     },
     "metadata": {
      "needs_background": "light"
     },
     "output_type": "display_data"
    }
   ],
   "source": [
    "plt.figure()\n",
    "plt.plot(result['test-mae-std'])"
   ]
  },
  {
   "cell_type": "code",
   "execution_count": null,
   "metadata": {},
   "outputs": [],
   "source": []
  },
  {
   "cell_type": "code",
   "execution_count": null,
   "metadata": {},
   "outputs": [],
   "source": []
  },
  {
   "cell_type": "code",
   "execution_count": null,
   "metadata": {},
   "outputs": [],
   "source": []
  },
  {
   "cell_type": "code",
   "execution_count": 52,
   "metadata": {},
   "outputs": [
    {
     "name": "stdout",
     "output_type": "stream",
     "text": [
      "best_score=2.0750172\n"
     ]
    }
   ],
   "source": [
    "print(f\"best_score={best_score}\")"
   ]
  },
  {
   "cell_type": "code",
   "execution_count": 57,
   "metadata": {},
   "outputs": [
    {
     "data": {
      "text/plain": [
       "{'learning_rate': 0.005,\n",
       " 'max_depth': 7,\n",
       " 'min_child_weight': 1,\n",
       " 'colsample_bytree': 0.7,\n",
       " 'subsample': 0.5,\n",
       " 'objective': 'reg:linear',\n",
       " 'eval_metric': 'mae',\n",
       " 'n_estimators': 10000,\n",
       " 'nthread': 32,\n",
       " 'random_state': 42}"
      ]
     },
     "execution_count": 57,
     "metadata": {},
     "output_type": "execute_result"
    }
   ],
   "source": [
    "best_params"
   ]
  },
  {
   "cell_type": "code",
   "execution_count": 62,
   "metadata": {},
   "outputs": [
    {
     "name": "stdout",
     "output_type": "stream",
     "text": [
      "Current Fold: 0\n",
      "[0]\tvalidation_0-mae:5.18879\tvalidation_1-mae:5.16517\n",
      "Multiple eval metrics have been passed: 'validation_1-mae' will be used for early stopping.\n",
      "\n",
      "Will train until validation_1-mae hasn't improved in 200 rounds.\n"
     ]
    },
    {
     "name": "stderr",
     "output_type": "stream",
     "text": [
      "/local/user/toolse64/ubuntu/18.04/usr/local/tools/anaconda_2018.12/lib/python3.7/site-packages/xgboost/core.py:587: FutureWarning: Series.base is deprecated and will be removed in a future version\n",
      "  if getattr(data, 'base', None) is not None and \\\n"
     ]
    },
    {
     "name": "stdout",
     "output_type": "stream",
     "text": [
      "[500]\tvalidation_0-mae:1.50396\tvalidation_1-mae:2.10052\n",
      "Stopping. Best iteration:\n",
      "[569]\tvalidation_0-mae:1.43888\tvalidation_1-mae:2.095\n",
      "\n",
      "MAE = 2.0950\n",
      "Current Fold: 1\n",
      "[0]\tvalidation_0-mae:5.19091\tvalidation_1-mae:5.15588\n",
      "Multiple eval metrics have been passed: 'validation_1-mae' will be used for early stopping.\n",
      "\n",
      "Will train until validation_1-mae hasn't improved in 200 rounds.\n"
     ]
    },
    {
     "name": "stderr",
     "output_type": "stream",
     "text": [
      "/local/user/toolse64/ubuntu/18.04/usr/local/tools/anaconda_2018.12/lib/python3.7/site-packages/xgboost/core.py:587: FutureWarning: Series.base is deprecated and will be removed in a future version\n",
      "  if getattr(data, 'base', None) is not None and \\\n"
     ]
    },
    {
     "name": "stdout",
     "output_type": "stream",
     "text": [
      "[500]\tvalidation_0-mae:1.50029\tvalidation_1-mae:2.10434\n",
      "Stopping. Best iteration:\n",
      "[615]\tvalidation_0-mae:1.39812\tvalidation_1-mae:2.09926\n",
      "\n",
      "MAE = 2.0993\n",
      "Current Fold: 2\n",
      "[0]\tvalidation_0-mae:5.22434\tvalidation_1-mae:5.02235\n",
      "Multiple eval metrics have been passed: 'validation_1-mae' will be used for early stopping.\n",
      "\n",
      "Will train until validation_1-mae hasn't improved in 200 rounds.\n"
     ]
    },
    {
     "name": "stderr",
     "output_type": "stream",
     "text": [
      "/local/user/toolse64/ubuntu/18.04/usr/local/tools/anaconda_2018.12/lib/python3.7/site-packages/xgboost/core.py:587: FutureWarning: Series.base is deprecated and will be removed in a future version\n",
      "  if getattr(data, 'base', None) is not None and \\\n"
     ]
    },
    {
     "name": "stdout",
     "output_type": "stream",
     "text": [
      "[500]\tvalidation_0-mae:1.49841\tvalidation_1-mae:2.06614\n",
      "Stopping. Best iteration:\n",
      "[522]\tvalidation_0-mae:1.47579\tvalidation_1-mae:2.06516\n",
      "\n",
      "MAE = 2.0652\n",
      "Current Fold: 3\n",
      "[0]\tvalidation_0-mae:5.14392\tvalidation_1-mae:5.34394\n",
      "Multiple eval metrics have been passed: 'validation_1-mae' will be used for early stopping.\n",
      "\n",
      "Will train until validation_1-mae hasn't improved in 200 rounds.\n"
     ]
    },
    {
     "name": "stderr",
     "output_type": "stream",
     "text": [
      "/local/user/toolse64/ubuntu/18.04/usr/local/tools/anaconda_2018.12/lib/python3.7/site-packages/xgboost/core.py:587: FutureWarning: Series.base is deprecated and will be removed in a future version\n",
      "  if getattr(data, 'base', None) is not None and \\\n"
     ]
    },
    {
     "name": "stdout",
     "output_type": "stream",
     "text": [
      "[500]\tvalidation_0-mae:1.50157\tvalidation_1-mae:2.02411\n",
      "Stopping. Best iteration:\n",
      "[574]\tvalidation_0-mae:1.43223\tvalidation_1-mae:2.01498\n",
      "\n",
      "MAE = 2.0150\n",
      "Current Fold: 4\n",
      "[0]\tvalidation_0-mae:5.17131\tvalidation_1-mae:5.23419\n",
      "Multiple eval metrics have been passed: 'validation_1-mae' will be used for early stopping.\n",
      "\n",
      "Will train until validation_1-mae hasn't improved in 200 rounds.\n"
     ]
    },
    {
     "name": "stderr",
     "output_type": "stream",
     "text": [
      "/local/user/toolse64/ubuntu/18.04/usr/local/tools/anaconda_2018.12/lib/python3.7/site-packages/xgboost/core.py:587: FutureWarning: Series.base is deprecated and will be removed in a future version\n",
      "  if getattr(data, 'base', None) is not None and \\\n"
     ]
    },
    {
     "name": "stdout",
     "output_type": "stream",
     "text": [
      "[500]\tvalidation_0-mae:1.501\tvalidation_1-mae:2.12707\n",
      "Stopping. Best iteration:\n",
      "[794]\tvalidation_0-mae:1.28518\tvalidation_1-mae:2.10866\n",
      "\n",
      "MAE = 2.1087\n",
      "Mean MAE = 2.0766\n",
      "Mean MAE = 2.0766 - Std MAE = 0.0341\n"
     ]
    }
   ],
   "source": [
    "scores_val_original = []\n",
    "for fold_, (trn_, val_) in enumerate(folds.split(X)):\n",
    "    print(\"Current Fold: {}\".format(fold_))\n",
    "    trn_x, trn_y = X.iloc[trn_], y.iloc[trn_]\n",
    "    val_x, val_y = X.iloc[val_], y.iloc[val_]\n",
    "\n",
    "    clf = xgb.XGBRegressor(**best_params)\n",
    "    clf.fit(\n",
    "        trn_x, trn_y,\n",
    "        eval_set=[(trn_x, trn_y), (val_x, val_y)],\n",
    "        eval_metric='mae',\n",
    "        verbose=500,\n",
    "        early_stopping_rounds=200\n",
    "    )\n",
    "    val_pred = clf.predict(val_x, ntree_limit=clf.best_ntree_limit)\n",
    "    test_fold_pred = clf.predict(X_test, ntree_limit=clf.best_ntree_limit)\n",
    "    score = metrics.mean_absolute_error(val_y, val_pred)\n",
    "    print(f\"MAE = {score:.4f}\")    \n",
    "    scores_val_original.append(score)\n",
    "    oof_preds[val_, :] = val_pred.reshape((-1, 1))\n",
    "    test_preds += test_fold_pred.reshape((-1, 1))\n",
    "    \n",
    "test_preds /= n_splits\n",
    "\n",
    "best_score_mean_retrained = np.mean(scores_val_original)\n",
    "best_score_std_retrained = np.std(scores_val_original)\n",
    "\n",
    "oof_score = metrics.mean_absolute_error(y, oof_preds)\n",
    "print(f\"Mean MAE = {best_score_mean_retrained:.4f} - Std MAE = {best_score_std_retrained:.4f}\")"
   ]
  },
  {
   "cell_type": "code",
   "execution_count": null,
   "metadata": {},
   "outputs": [],
   "source": []
  },
  {
   "cell_type": "markdown",
   "metadata": {},
   "source": [
    "This is the original Kernel"
   ]
  },
  {
   "cell_type": "code",
   "execution_count": 54,
   "metadata": {},
   "outputs": [
    {
     "name": "stdout",
     "output_type": "stream",
     "text": [
      "Current Fold: 0\n",
      "[0]\tvalidation_0-mae:5.16504\tvalidation_1-mae:5.14136\n",
      "Multiple eval metrics have been passed: 'validation_1-mae' will be used for early stopping.\n",
      "\n",
      "Will train until validation_1-mae hasn't improved in 200 rounds.\n",
      "Stopping. Best iteration:\n",
      "[264]\tvalidation_0-mae:1.88955\tvalidation_1-mae:2.13085\n",
      "\n",
      "MAE = 2.1308532280079038:.4f\n",
      "Current Fold: 1\n",
      "[0]\tvalidation_0-mae:5.16712\tvalidation_1-mae:5.13129\n",
      "Multiple eval metrics have been passed: 'validation_1-mae' will be used for early stopping.\n",
      "\n",
      "Will train until validation_1-mae hasn't improved in 200 rounds.\n"
     ]
    },
    {
     "name": "stderr",
     "output_type": "stream",
     "text": [
      "/local/user/toolse64/ubuntu/18.04/usr/local/tools/anaconda_2018.12/lib/python3.7/site-packages/xgboost/core.py:587: FutureWarning: Series.base is deprecated and will be removed in a future version\n",
      "  if getattr(data, 'base', None) is not None and \\\n"
     ]
    },
    {
     "name": "stdout",
     "output_type": "stream",
     "text": [
      "Stopping. Best iteration:\n",
      "[259]\tvalidation_0-mae:1.89948\tvalidation_1-mae:2.11642\n",
      "\n",
      "MAE = 2.116422236311507:.4f\n",
      "Current Fold: 2\n",
      "[0]\tvalidation_0-mae:5.20024\tvalidation_1-mae:4.9985\n",
      "Multiple eval metrics have been passed: 'validation_1-mae' will be used for early stopping.\n",
      "\n",
      "Will train until validation_1-mae hasn't improved in 200 rounds.\n"
     ]
    },
    {
     "name": "stderr",
     "output_type": "stream",
     "text": [
      "/local/user/toolse64/ubuntu/18.04/usr/local/tools/anaconda_2018.12/lib/python3.7/site-packages/xgboost/core.py:587: FutureWarning: Series.base is deprecated and will be removed in a future version\n",
      "  if getattr(data, 'base', None) is not None and \\\n"
     ]
    },
    {
     "name": "stdout",
     "output_type": "stream",
     "text": [
      "Stopping. Best iteration:\n",
      "[241]\tvalidation_0-mae:1.92268\tvalidation_1-mae:2.07896\n",
      "\n",
      "MAE = 2.0789616590329008:.4f\n",
      "Current Fold: 3\n",
      "[0]\tvalidation_0-mae:5.12026\tvalidation_1-mae:5.31974\n",
      "Multiple eval metrics have been passed: 'validation_1-mae' will be used for early stopping.\n",
      "\n",
      "Will train until validation_1-mae hasn't improved in 200 rounds.\n"
     ]
    },
    {
     "name": "stderr",
     "output_type": "stream",
     "text": [
      "/local/user/toolse64/ubuntu/18.04/usr/local/tools/anaconda_2018.12/lib/python3.7/site-packages/xgboost/core.py:587: FutureWarning: Series.base is deprecated and will be removed in a future version\n",
      "  if getattr(data, 'base', None) is not None and \\\n"
     ]
    },
    {
     "name": "stdout",
     "output_type": "stream",
     "text": [
      "[500]\tvalidation_0-mae:1.7979\tvalidation_1-mae:2.02507\n",
      "Stopping. Best iteration:\n",
      "[314]\tvalidation_0-mae:1.87232\tvalidation_1-mae:2.02001\n",
      "\n",
      "MAE = 2.0200131961855883:.4f\n",
      "Current Fold: 4\n",
      "[0]\tvalidation_0-mae:5.14774\tvalidation_1-mae:5.21103\n",
      "Multiple eval metrics have been passed: 'validation_1-mae' will be used for early stopping.\n",
      "\n",
      "Will train until validation_1-mae hasn't improved in 200 rounds.\n"
     ]
    },
    {
     "name": "stderr",
     "output_type": "stream",
     "text": [
      "/local/user/toolse64/ubuntu/18.04/usr/local/tools/anaconda_2018.12/lib/python3.7/site-packages/xgboost/core.py:587: FutureWarning: Series.base is deprecated and will be removed in a future version\n",
      "  if getattr(data, 'base', None) is not None and \\\n"
     ]
    },
    {
     "name": "stdout",
     "output_type": "stream",
     "text": [
      "[500]\tvalidation_0-mae:1.79846\tvalidation_1-mae:2.1141\n",
      "Stopping. Best iteration:\n",
      "[310]\tvalidation_0-mae:1.85902\tvalidation_1-mae:2.11332\n",
      "\n",
      "MAE = 2.1133190251155805:.4f\n",
      "Mean MAE = 2.091913868930696\n"
     ]
    }
   ],
   "source": [
    "params = {\n",
    "    \"learning_rate\": 0.01,\n",
    "    \"max_depth\": 4,\n",
    "    \"n_estimators\": 10000,\n",
    "    \"min_child_weight\": 1,\n",
    "    \"colsample_bytree\": 0.9,\n",
    "    \"subsample\": 1.0,\n",
    "    \"nthread\": 12,\n",
    "    \"random_state\": 42,\n",
    "}\n",
    "scores_val_original = []\n",
    "for fold_, (trn_, val_) in enumerate(folds.split(X)):\n",
    "    print(\"Current Fold: {}\".format(fold_))\n",
    "    trn_x, trn_y = X.iloc[trn_], y.iloc[trn_]\n",
    "    val_x, val_y = X.iloc[val_], y.iloc[val_]\n",
    "\n",
    "    clf = xgb.XGBRegressor(**params)\n",
    "    clf.fit(\n",
    "        trn_x, trn_y,\n",
    "        eval_set=[(trn_x, trn_y), (val_x, val_y)],\n",
    "        eval_metric='mae',\n",
    "        verbose=500,\n",
    "        early_stopping_rounds=200\n",
    "    )\n",
    "    val_pred = clf.predict(val_x, ntree_limit=clf.best_ntree_limit)\n",
    "    test_fold_pred = clf.predict(X_test, ntree_limit=clf.best_ntree_limit)\n",
    "    score = metrics.mean_absolute_error(val_y, val_pred)\n",
    "    print(f\"MAE = {score}:.4f\")    \n",
    "    scores_val_original.append(score)\n",
    "    oof_preds[val_, :] = val_pred.reshape((-1, 1))\n",
    "    test_preds += test_fold_pred.reshape((-1, 1))\n",
    "    \n",
    "test_preds /= n_splits\n",
    "\n",
    "original_score_mean = np.mean(scores_val_original)\n",
    "original_score_std = np.std(scores_val_original)\n",
    "\n",
    "oof_score = metrics.mean_absolute_error(y, oof_preds)\n",
    "print(\"Mean MAE = {}\".format(oof_score))"
   ]
  },
  {
   "cell_type": "code",
   "execution_count": 64,
   "metadata": {},
   "outputs": [
    {
     "data": {
      "text/plain": [
       "2.0766115265472562"
      ]
     },
     "execution_count": 64,
     "metadata": {},
     "output_type": "execute_result"
    }
   ],
   "source": []
  },
  {
   "cell_type": "code",
   "execution_count": 70,
   "metadata": {},
   "outputs": [
    {
     "data": {
      "image/png": "[encoded data removed]",
      "text/plain": [
       "<Figure size 1152x432 with 1 Axes>"
      ]
     },
     "metadata": {
      "needs_background": "light"
     },
     "output_type": "display_data"
    }
   ],
   "source": [
    "plt.figure(figsize=(16, 6))\n",
    "plt.scatter(scores_val_mean, scores_val_std, color='blue')\n",
    "plt.scatter(best_score, best_score_std, color='gold')\n",
    "#plt.scatter(original_score_mean, original_score_std, color='red')\n",
    "plt.scatter(best_score_mean_retrained, best_score_std_retrained, color='green')\n",
    "plt.xlim([2, 2.5])\n",
    "plt.ylim([0, 0.1])\n",
    "plt.xlabel('scores_val_mean')\n",
    "plt.ylabel('scores_val_std')\n",
    "plt.title('Validation score mean/std scatter plot')\n",
    "plt.grid()\n",
    "plt.legend(['All parameters (from xgb.cv)', 'Best parameters (from xgb.cv)', 'Best parameters (xgb.XGBRegressor)'])\n",
    "plt.show()"
   ]
  },
  {
   "cell_type": "code",
   "execution_count": null,
   "metadata": {},
   "outputs": [],
   "source": []
  },
  {
   "cell_type": "code",
   "execution_count": null,
   "metadata": {},
   "outputs": [],
   "source": []
  },
  {
   "cell_type": "code",
   "execution_count": null,
   "metadata": {},
   "outputs": [],
   "source": [
    "submission = pd.DataFrame(columns=['seg_id', 'time_to_failure'])\n",
    "submission.seg_id = test_segs\n",
    "submission.time_to_failure = test_preds\n",
    "submission.to_csv('submission.csv', index=False)"
   ]
  },
  {
   "cell_type": "code",
   "execution_count": null,
   "metadata": {},
   "outputs": [],
   "source": []
  }
 ],
 "metadata": {
  "kernelspec": {
   "display_name": "Python 3",
   "language": "python",
   "name": "python3"
  },
  "language_info": {
   "codemirror_mode": {
    "name": "ipython",
    "version": 3
   },
   "file_extension": ".py",
   "mimetype": "text/x-python",
   "name": "python",
   "nbconvert_exporter": "python",
   "pygments_lexer": "ipython3",
   "version": "3.7.3"
  }
 },
 "nbformat": 4,
 "nbformat_minor": 1
}
